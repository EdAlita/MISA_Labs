{
 "cells": [
  {
   "cell_type": "code",
   "execution_count": null,
   "metadata": {},
   "outputs": [],
   "source": [
    "import numpy as np\n",
    "import nibabel as nb\n",
    "import SimpleITK as sitk\n",
    "import glob\n",
    "from tqdm import tqdm\n",
    "import matplotlib.pyplot as plt\n",
    "import os\n",
    "from loguru import logger\n",
    "import sys\n",
    "import maximum_expectation_algorithm\n",
    "import random"
   ]
  },
  {
   "cell_type": "code",
   "execution_count": null,
   "metadata": {},
   "outputs": [],
   "source": [
    "def print_shapes(data,name):\n",
    "    \"\"\"\n",
    "    Print the shapes of all white matter (WM) tissue images.\n",
    "\n",
    "    :param wm_data: List of white matter (WM) brain images.\n",
    "    \"\"\"\n",
    "    for idx, image in enumerate(data):\n",
    "        print(f\"Shape of {name} image {idx + 1}: {image.shape}\")"
   ]
  },
  {
   "cell_type": "code",
   "execution_count": null,
   "metadata": {},
   "outputs": [],
   "source": [
    "\n",
    "root_dir = '../Register_testing_volumes/mni_atlas_REGISTERED_AFFINE10/'\n",
    "\n",
    "# Get all .nii.gz files recursively from the root directory\n",
    "all_nii_files = glob.glob(os.path.join(root_dir, '100*', '*.nii'), recursive=True)\n",
    "\n",
    "# Categorize files by type\n",
    "file_categories = {\n",
    "    'mni_atlas_1C': [],\n",
    "    'mni_atlas_p_atlas_background': [],\n",
    "    'mni_atlas_p_atlas_csf': [],\n",
    "    'mni_atlas_p_atlas_gm': [],\n",
    "    'mni_atlas_p_atlas_wm': [],\n",
    "    'mni_atlas_template': []\n",
    "    }\n",
    "\n",
    "for file in all_nii_files:\n",
    "    for category in file_categories.keys():\n",
    "        if category in os.path.basename(file):\n",
    "            file_categories[category].append(file)\n",
    "\n",
    "# Load the files for each category (example shown for one category)\n",
    "number_of_brains = 7\n",
    "brain_layer = 127\n",
    "\n",
    "# Check file paths (add this for debugging)\n",
    "print(f\"Found mni_atlas_1C files: {file_categories['mni_atlas_1C'][:number_of_brains]}\")\n",
    "print(' ')\n",
    "# Load the files for each category using simpleITK\n",
    "mni_atlas_p_atlas_background = [sitk.GetArrayFromImage(sitk.ReadImage(file)) for file in file_categories['mni_atlas_p_atlas_background'][:number_of_brains]]\n",
    "mni_atlas_p_atlas_csf = [sitk.GetArrayFromImage(sitk.ReadImage(file)) for file in file_categories['mni_atlas_p_atlas_csf'][:number_of_brains]]\n",
    "mni_atlas_p_atlas_gm = [sitk.GetArrayFromImage(sitk.ReadImage(file)) for file in file_categories['mni_atlas_p_atlas_gm'][:number_of_brains]]\n",
    "mni_atlas_p_atlas_wm = [sitk.GetArrayFromImage(sitk.ReadImage(file)) for file in file_categories['mni_atlas_p_atlas_wm'][:number_of_brains]]\n",
    "mni_atlas_p_atlas_mask = [sitk.GetArrayFromImage(sitk.ReadImage(file)) for file in file_categories['mni_atlas_p_atlas_background'][:number_of_brains]]\n",
    "\n",
    "t1 = sitk.ReadImage(os.path.join('..', 'Register_testing_volumes','test','test','testing-images', '1005.nii.gz'))\n",
    "t1_array = sitk.GetArrayFromImage(t1)\n",
    "t1_mask = sitk.ReadImage(os.path.join('..', 'Register_testing_volumes','test','test','testing-labels', '1005_3C.nii.gz'))\n",
    "t1_mask = sitk.GetArrayFromImage(t1_mask)\n",
    "\n",
    "# Stack and process the data as needed\n",
    "logger.success(f'Imported {len(mni_atlas_p_atlas_csf)} mni_atlas_p_atlas_csf images')\n",
    "logger.success(f'Imported {len(mni_atlas_p_atlas_gm)} mni_atlas_p_atlas_csf images')\n",
    "logger.success(f'Imported {len(mni_atlas_p_atlas_wm)} mni_atlas_p_atlas_csf images')\n",
    "logger.success(f'Imported {len(mni_atlas_p_atlas_mask)} mni_atlas_p_atlas_mask images')\n",
    "\n",
    "# For debuggig\n",
    "print_shapes(mni_atlas_p_atlas_mask,'WM')\n"
   ]
  },
  {
   "cell_type": "code",
   "execution_count": null,
   "metadata": {},
   "outputs": [],
   "source": [
    "stacked_data = np.stack([mni_atlas_p_atlas_background[0],mni_atlas_p_atlas_csf[0],mni_atlas_p_atlas_gm[0],mni_atlas_p_atlas_wm[0]],axis=0)\n",
    "print(stacked_data.shape)"
   ]
  },
  {
   "cell_type": "code",
   "execution_count": null,
   "metadata": {},
   "outputs": [],
   "source": [
    "plt.imshow((t1_mask!=0)[brain_layer,:,:],cmap='gray')\n",
    "print(np.unique(t1_mask))"
   ]
  },
  {
   "cell_type": "code",
   "execution_count": null,
   "metadata": {},
   "outputs": [],
   "source": [
    "import matplotlib.pyplot as plt\n",
    "import numpy as np\n",
    "import random\n",
    "\n",
    "def plot_different_brains_rotated(csf_data, gm_data, wm_data, layer):\n",
    "    \"\"\"\n",
    "    Plot specific brain layers from three different brains for each tissue type,\n",
    "    with each image rotated by 90 degrees.\n",
    "    \n",
    "    :param csf_data: List of cerebrospinal fluid (CSF) brain images.\n",
    "    :param gm_data: List of gray matter (GM) brain images.\n",
    "    :param wm_data: List of white matter (WM) brain images.\n",
    "    :param layer: Specific layer of the brain to plot.\n",
    "    \"\"\"\n",
    "    # Randomly select three different brains for each tissue type\n",
    "    brains_indices = random.sample(range(len(csf_data)), 3)\n",
    "\n",
    "    # Plotting\n",
    "    fig, axes = plt.subplots(3, 3, figsize=(15, 15))\n",
    "\n",
    "    for i, idx in enumerate(brains_indices):\n",
    "        axes[i, 0].imshow(np.rot90(csf_data[idx][layer, :, :]), cmap='gray')\n",
    "        axes[i, 0].set_title(f'Brain {idx+1} CSF')\n",
    "        axes[i, 0].axis('off')\n",
    "\n",
    "        axes[i, 1].imshow(np.rot90(gm_data[idx][layer, :, :]), cmap='gray')\n",
    "        axes[i, 1].set_title(f'Brain {idx+1} GM')\n",
    "        axes[i, 1].axis('off')\n",
    "\n",
    "        axes[i, 2].imshow(np.rot90(wm_data[idx][layer, :, :]), cmap='gray')\n",
    "        axes[i, 2].set_title(f'Brain {idx+1} WM')\n",
    "        axes[i, 2].axis('off')\n",
    "\n",
    "    plt.show()\n",
    "\n",
    "# Example usage of the function\n",
    "plot_different_brains_rotated(mni_atlas_p_atlas_csf, mni_atlas_p_atlas_gm, mni_atlas_p_atlas_wm, brain_layer)\n"
   ]
  },
  {
   "cell_type": "code",
   "execution_count": null,
   "metadata": {},
   "outputs": [],
   "source": [
    "# Initialize an empty list to store the segmented images\n",
    "probmaps = []\n",
    "\n",
    "# Assuming mni_atlas_p_atlas_csf, mni_atlas_p_atlas_gm, mni_atlas_p_atlas_wm are 3D arrays\n",
    "# Iterate over each slice/index\n",
    "for i in range(len(mni_atlas_p_atlas_csf)):  # Adjust according to the number of slices\n",
    "    # Stack the probability maps for this slice\n",
    "    prob_map = np.stack((mni_atlas_p_atlas_csf[i], mni_atlas_p_atlas_gm[i], mni_atlas_p_atlas_wm[i]), axis=-1)\n"
   ]
  },
  {
   "cell_type": "code",
   "execution_count": null,
   "metadata": {},
   "outputs": [],
   "source": [
    "EM = maximum_expectation_algorithm.maximum_expectation_algorithm()"
   ]
  },
  {
   "cell_type": "code",
   "execution_count": null,
   "metadata": {},
   "outputs": [],
   "source": [
    "ll=stacked_data.reshape(-1,stacked_data.shape[0])\n",
    "print(ll.shape)"
   ]
  },
  {
   "cell_type": "code",
   "execution_count": null,
   "metadata": {},
   "outputs": [],
   "source": [
    "tpm_mni = np.where(stacked_data > 1, 1, stacked_data)\n",
    "tpm_mni = np.where(tpm_mni < 0, 0, tpm_mni)\n",
    "\n",
    "t1 = EM.min_max_normalization(t1_array)\n",
    "\n",
    "t1_segmentation, t1_segmentation_time = EM.tissue_segmentation(t1_array,type='label_propragation',label_pro=tpm_mni)"
   ]
  },
  {
   "cell_type": "code",
   "execution_count": null,
   "metadata": {},
   "outputs": [],
   "source": [
    "print(t1_segmentation.shape)\n",
    "plt.imshow(t1_segmentation[brain_layer,:,:])\n",
    "print(np.unique(t1_segmentation))\n"
   ]
  }
 ],
 "metadata": {
  "kernelspec": {
   "display_name": "Python 3",
   "language": "python",
   "name": "python3"
  },
  "language_info": {
   "codemirror_mode": {
    "name": "ipython",
    "version": 3
   },
   "file_extension": ".py",
   "mimetype": "text/x-python",
   "name": "python",
   "nbconvert_exporter": "python",
   "pygments_lexer": "ipython3",
   "version": "3.10.12"
  }
 },
 "nbformat": 4,
 "nbformat_minor": 2
}
